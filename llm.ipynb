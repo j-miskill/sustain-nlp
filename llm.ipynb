{
 "cells": [
  {
   "cell_type": "code",
   "execution_count": 1,
   "metadata": {},
   "outputs": [
    {
     "name": "stderr",
     "output_type": "stream",
     "text": [
      "/Users/jacksonmiskill/class/f24/nlp/project/venv-3.11/lib/python3.11/site-packages/tqdm/auto.py:21: TqdmWarning: IProgress not found. Please update jupyter and ipywidgets. See https://ipywidgets.readthedocs.io/en/stable/user_install.html\n",
      "  from .autonotebook import tqdm as notebook_tqdm\n",
      "2024-12-10 18:20:23.566371: I tensorflow/core/platform/cpu_feature_guard.cc:210] This TensorFlow binary is optimized to use available CPU instructions in performance-critical operations.\n",
      "To enable the following instructions: AVX2 FMA, in other operations, rebuild TensorFlow with the appropriate compiler flags.\n"
     ]
    }
   ],
   "source": [
    "import helper\n",
    "import pandas as pd\n",
    "import numpy as np\n",
    "import platform\n",
    "from transformers import pipeline\n",
    "import tensorflow as tf\n",
    "import torch\n",
    "from flax import nnx\n",
    "from transformers import AutoTokenizer, AutoModelForSequenceClassification\n",
    "pd.options.display.max_colwidth = 100"
   ]
  },
  {
   "cell_type": "code",
   "execution_count": 3,
   "metadata": {},
   "outputs": [
    {
     "name": "stdout",
     "output_type": "stream",
     "text": [
      "company       10198\n",
      "content       10198\n",
      "datatype      10051\n",
      "date          10198\n",
      "domain        10119\n",
      "esg_topics    10198\n",
      "internal      10198\n",
      "symbol        10198\n",
      "title         10198\n",
      "url           10119\n",
      "Ticker        10198\n",
      "CDP Score     10198\n",
      "dtype: int64\n",
      "working on: Beiersdorf AG\n",
      "num sentences: 372\n",
      "analyzing sentence: 100\n"
     ]
    }
   ],
   "source": [
    "tdc = helper.TrainingDataCreator(filename=\"./dax_esg_media_dataset/esg_documents_for_dax_companies.csv\")\n",
    "merged_df = tdc.create_merged_df()\n",
    "print(merged_df.count())\n",
    "merged_df = merged_df.head(1)\n",
    "output = tdc.get_all_environmental_sentences(merged_df=merged_df)"
   ]
  },
  {
   "cell_type": "code",
   "execution_count": 11,
   "metadata": {},
   "outputs": [
    {
     "name": "stdout",
     "output_type": "stream",
     "text": [
      "372\n"
     ]
    }
   ],
   "source": [
    "list_of_sentences = output['content'].values[0].split(\".\")\n",
    "print(len(list_of_sentences))"
   ]
  },
  {
   "cell_type": "code",
   "execution_count": null,
   "metadata": {},
   "outputs": [],
   "source": []
  }
 ],
 "metadata": {
  "kernelspec": {
   "display_name": "venv-3.11",
   "language": "python",
   "name": "python3"
  },
  "language_info": {
   "codemirror_mode": {
    "name": "ipython",
    "version": 3
   },
   "file_extension": ".py",
   "mimetype": "text/x-python",
   "name": "python",
   "nbconvert_exporter": "python",
   "pygments_lexer": "ipython3",
   "version": "3.11.5"
  }
 },
 "nbformat": 4,
 "nbformat_minor": 2
}
