{
 "cells": [
  {
   "cell_type": "markdown",
   "metadata": {},
   "source": [
    "# CDP Data Scraping\n",
    "This scrapes the CDP score for a company, visible from \"https://www.google.com/finance/quote/{company_ticker}:ETR\".\n",
    "\n",
    "- Only 1 request is sent per ticker\n",
    "- The resulting CSV saves 1 row per ticker\n",
    "- There are only ~35 rows because many companies have 100s of document entries in the esg dataset. This isn't a problem for the classifier as those examples will still be useful for training."
   ]
  },
  {
   "cell_type": "code",
   "execution_count": 6,
   "metadata": {},
   "outputs": [
    {
     "name": "stdout",
     "output_type": "stream",
     "text": [
      "CDP scores saved to 'cdp_scores.csv'\n"
     ]
    }
   ],
   "source": [
    "import aiohttp\n",
    "import asyncio\n",
    "from bs4 import BeautifulSoup\n",
    "import pandas as pd\n",
    "\n",
    "import nest_asyncio\n",
    "nest_asyncio.apply()\n",
    "\n",
    "async def get_company_cdp_score(session, company_ticker):\n",
    "    url = f\"https://www.google.com/finance/quote/{company_ticker}:ETR\"\n",
    "    headers = {\n",
    "        \"User-Agent\": \"Mozilla/5.0 (Windows NT 10.0; Win64; x64) AppleWebKit/537.36 (KHTML, like Gecko) Chrome/119.0.0.0 Safari/537.36\"\n",
    "    }\n",
    "\n",
    "    async with session.get(url, headers=headers) as response:\n",
    "        if response.status == 200:\n",
    "            html = await response.text()\n",
    "            soup = BeautifulSoup(html, \"html.parser\")\n",
    "            \n",
    "            target_element = soup.find(string=\"CDP Climate Change Score\")\n",
    "            \n",
    "            if target_element:\n",
    "                parent = target_element.find_parent(\"span\").find_parent(\"div\")\n",
    "                grade_element = parent.find(\"div\", recursive=False)\n",
    "                return grade_element.text.strip()\n",
    "        return None\n",
    "\n",
    "async def scrape_scores(tickers):\n",
    "    semaphore = asyncio.Semaphore(5)  # limit concurrent requests\n",
    "    seen_tickers = set()\n",
    "\n",
    "    async def fetch_score(ticker):\n",
    "        if ticker in seen_tickers:\n",
    "            return None\n",
    "        seen_tickers.add(ticker)\n",
    "\n",
    "        async with semaphore:\n",
    "            async with aiohttp.ClientSession() as session:\n",
    "                return await get_company_cdp_score(session, ticker)\n",
    "\n",
    "    tasks = [fetch_score(ticker) for ticker in tickers]\n",
    "    return await asyncio.gather(*tasks)\n",
    "\n",
    "if __name__ == \"__main__\":\n",
    "    esg_documents_df = pd.read_csv('./dax_esg_media_dataset/esg_documents_for_dax_companies.csv', sep='|')\n",
    "    tickers = esg_documents_df['symbol'].tolist()\n",
    "\n",
    "    scores = asyncio.run(scrape_scores(tickers))\n",
    "\n",
    "    results_df = pd.DataFrame({'Ticker': tickers, 'CDP Score': scores})\n",
    "\n",
    "    results_df.dropna(subset=['CDP Score'], inplace=True)\n",
    "    results_df.to_csv('./cdp_scores.csv', index=False)\n",
    "\n",
    "    print(f\"CDP scores saved to 'cdp_scores.csv'\")\n"
   ]
  }
 ],
 "metadata": {
  "kernelspec": {
   "display_name": "nlp_env",
   "language": "python",
   "name": "python3"
  },
  "language_info": {
   "codemirror_mode": {
    "name": "ipython",
    "version": 3
   },
   "file_extension": ".py",
   "mimetype": "text/x-python",
   "name": "python",
   "nbconvert_exporter": "python",
   "pygments_lexer": "ipython3",
   "version": "3.12.7"
  }
 },
 "nbformat": 4,
 "nbformat_minor": 2
}
