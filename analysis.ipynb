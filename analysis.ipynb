{
 "cells": [
  {
   "cell_type": "markdown",
   "metadata": {},
   "source": [
    "# NLP Project"
   ]
  },
  {
   "cell_type": "markdown",
   "metadata": {},
   "source": [
    "## Load Data"
   ]
  },
  {
   "cell_type": "markdown",
   "metadata": {},
   "source": [
    "### Scraped CDP Scores\n",
    "See [./download_csp_scores.py](./download_cdp_scores.py) for the CDP scores scraping code"
   ]
  },
  {
   "cell_type": "code",
   "execution_count": 18,
   "metadata": {},
   "outputs": [],
   "source": [
    "import pandas as pd\n",
    "\n",
    "esg_documents_df = pd.read_csv('./dax_esg_media_dataset/esg_documents_for_dax_companies.csv', sep='|')\n",
    "\n",
    "cdp_scores_df = pd.read_csv('./cdp_scores.csv')"
   ]
  },
  {
   "cell_type": "code",
   "execution_count": 23,
   "metadata": {},
   "outputs": [
    {
     "name": "stdout",
     "output_type": "stream",
     "text": [
      "      symbol CDP Score\n",
      "0        BEI         A\n",
      "1        DTE         A\n",
      "2        VNA        A-\n",
      "3        MRK        A-\n",
      "4        MTX         B\n",
      "...      ...       ...\n",
      "11543    ZAL        A-\n",
      "11544    ZAL        A-\n",
      "11545    ZAL        A-\n",
      "11546    ZAL        A-\n",
      "11547    ZAL        A-\n",
      "\n",
      "[10198 rows x 2 columns]\n",
      "10198\n"
     ]
    }
   ],
   "source": [
    "merged_df = pd.merge(esg_documents_df, cdp_scores_df, how='left', left_on='symbol', right_on='Ticker')\n",
    "\n",
    "merged_df.dropna(subset=['CDP Score'], inplace=True) # drop rows without a CDP score\n",
    "\n",
    "print(merged_df[['symbol', 'CDP Score']])\n",
    "print(len(merged_df))"
   ]
  },
  {
   "cell_type": "markdown",
   "metadata": {},
   "source": [
    "## Preprocessing"
   ]
  },
  {
   "cell_type": "code",
   "execution_count": 22,
   "metadata": {},
   "outputs": [],
   "source": [
    "from sklearn.feature_extraction.text import CountVectorizer\n",
    "\n",
    "vectorizer = CountVectorizer(\n",
    "    lowercase=True,\n",
    "    stop_words='english',\n",
    "    token_pattern=r'\\b\\w+\\b' # Only keep word tokens\n",
    ")\n",
    "\n",
    "bow_matrix = vectorizer.fit(esg_documents_df['content'].fillna(''))\n",
    "# can use the bow_matrix in the next step for building a model"
   ]
  },
  {
   "cell_type": "markdown",
   "metadata": {},
   "source": [
    "## Model Fitting"
   ]
  },
  {
   "cell_type": "code",
   "execution_count": null,
   "metadata": {},
   "outputs": [],
   "source": [
    "# TODO here we should try and build a model that correlates the preprocessed\n",
    "# data to the column of our choice in the sp500_risk_ratings dataset"
   ]
  },
  {
   "cell_type": "markdown",
   "metadata": {},
   "source": [
    "## Model Analysis"
   ]
  },
  {
   "cell_type": "code",
   "execution_count": null,
   "metadata": {},
   "outputs": [],
   "source": [
    "# TODO check how well our model did here"
   ]
  },
  {
   "cell_type": "markdown",
   "metadata": {},
   "source": [
    "# Data Sources\n",
    "- https://www.kaggle.com/datasets/pritish509/s-and-p-500-esg-risk-ratings\n",
    "- https://www.kaggle.com/datasets/equintel/dax-esg-media-dataset"
   ]
  },
  {
   "cell_type": "markdown",
   "metadata": {},
   "source": [
    "# References"
   ]
  },
  {
   "cell_type": "markdown",
   "metadata": {},
   "source": []
  }
 ],
 "metadata": {
  "kernelspec": {
   "display_name": "nlp_env",
   "language": "python",
   "name": "python3"
  },
  "language_info": {
   "codemirror_mode": {
    "name": "ipython",
    "version": 3
   },
   "file_extension": ".py",
   "mimetype": "text/x-python",
   "name": "python",
   "nbconvert_exporter": "python",
   "pygments_lexer": "ipython3",
   "version": "3.12.7"
  }
 },
 "nbformat": 4,
 "nbformat_minor": 2
}
