{
 "cells": [
  {
   "cell_type": "markdown",
   "metadata": {},
   "source": [
    "# NLP Project"
   ]
  },
  {
   "cell_type": "markdown",
   "metadata": {},
   "source": [
    "## Load Data"
   ]
  },
  {
   "cell_type": "markdown",
   "metadata": {},
   "source": [
    "### Scraped CDP Scores\n",
    "See [./download_csp_scores.py](./download_cdp_scores.py) for the CDP scores scraping code"
   ]
  },
  {
   "cell_type": "code",
   "execution_count": 6,
   "metadata": {},
   "outputs": [],
   "source": [
    "import pandas as pd\n",
    "import numpy as np\n",
    "import platform\n",
    "from transformers import pipeline\n",
    "import tensorflow as tf\n",
    "import torch\n",
    "from flax import nnx\n",
    "pd.options.display.max_colwidth = 100"
   ]
  },
  {
   "cell_type": "code",
   "execution_count": 2,
   "metadata": {},
   "outputs": [],
   "source": [
    "p = platform.platform()\n",
    "\n",
    "esg_documents_df = pd.read_csv('./dax_esg_media_dataset/esg_documents_for_dax_companies.csv', sep='|')\n",
    "cdp_scores_df = pd.read_csv('./cdp_scores.csv')\n",
    "esg_documents_df = esg_documents_df.drop(\"Unnamed: 0\", axis=1)\n",
    "\n"
   ]
  },
  {
   "cell_type": "code",
   "execution_count": 47,
   "metadata": {},
   "outputs": [
    {
     "data": {
      "text/html": [
       "<div>\n",
       "<style scoped>\n",
       "    .dataframe tbody tr th:only-of-type {\n",
       "        vertical-align: middle;\n",
       "    }\n",
       "\n",
       "    .dataframe tbody tr th {\n",
       "        vertical-align: top;\n",
       "    }\n",
       "\n",
       "    .dataframe thead th {\n",
       "        text-align: right;\n",
       "    }\n",
       "</style>\n",
       "<table border=\"1\" class=\"dataframe\">\n",
       "  <thead>\n",
       "    <tr style=\"text-align: right;\">\n",
       "      <th></th>\n",
       "      <th>company</th>\n",
       "      <th>content</th>\n",
       "      <th>datatype</th>\n",
       "      <th>date</th>\n",
       "      <th>domain</th>\n",
       "      <th>esg_topics</th>\n",
       "      <th>internal</th>\n",
       "      <th>symbol</th>\n",
       "      <th>title</th>\n",
       "      <th>url</th>\n",
       "      <th>Ticker</th>\n",
       "      <th>CDP Score</th>\n",
       "    </tr>\n",
       "  </thead>\n",
       "  <tbody>\n",
       "    <tr>\n",
       "      <th>0</th>\n",
       "      <td>Beiersdorf AG</td>\n",
       "      <td>Sustainability Highlight Report CARE BEYOND SKIN 2021 03 Foreword OUR SUSTAINABILITY COMMITMENT ...</td>\n",
       "      <td>sustainability_report</td>\n",
       "      <td>2021-03-31</td>\n",
       "      <td>NaN</td>\n",
       "      <td>['CleanWater', 'GHGEmission', 'ProductLiability', 'ValueChain', 'GenderDiversity', 'Upcycling', ...</td>\n",
       "      <td>1</td>\n",
       "      <td>BEI</td>\n",
       "      <td>BeiersdorfAG Sustainability Report 2021</td>\n",
       "      <td>NaN</td>\n",
       "      <td>BEI</td>\n",
       "      <td>A</td>\n",
       "    </tr>\n",
       "  </tbody>\n",
       "</table>\n",
       "</div>"
      ],
      "text/plain": [
       "         company  \\\n",
       "0  Beiersdorf AG   \n",
       "\n",
       "                                                                                               content  \\\n",
       "0  Sustainability Highlight Report CARE BEYOND SKIN 2021 03 Foreword OUR SUSTAINABILITY COMMITMENT ...   \n",
       "\n",
       "                datatype        date domain  \\\n",
       "0  sustainability_report  2021-03-31    NaN   \n",
       "\n",
       "                                                                                            esg_topics  \\\n",
       "0  ['CleanWater', 'GHGEmission', 'ProductLiability', 'ValueChain', 'GenderDiversity', 'Upcycling', ...   \n",
       "\n",
       "   internal symbol                                    title  url Ticker  \\\n",
       "0         1    BEI  BeiersdorfAG Sustainability Report 2021  NaN    BEI   \n",
       "\n",
       "  CDP Score  \n",
       "0         A  "
      ]
     },
     "execution_count": 47,
     "metadata": {},
     "output_type": "execute_result"
    }
   ],
   "source": [
    "merged_df.head(1)"
   ]
  },
  {
   "cell_type": "code",
   "execution_count": null,
   "metadata": {},
   "outputs": [
    {
     "data": {
      "text/plain": [
       "'Sustainability Highlight Report CARE BEYOND SKIN 2021 03 Foreword OUR SUSTAINABILITY COMMITMENT 06 Our Values, our Brands, our Strategy 07 Our Sustainability Agenda CARE BEYOND SKIN 08 Our Partnerships 09 Our Promise toward Consumers MINIMIZING OUR ENVIRONMENTAL FOOTPRINT 11 Our Targets Climate Care: Our Holistic Approach to Climate Protection 12 14 16 17 18 People and Nature in Balance – Innovative NIVEA Products Eucerin: Dermocosmetics Meets Sustainability La Prairie Combines Sustainability and Luxury Climate-neutral Production in Leipzig and Berlin KEY FOR NAVIGATION Jump to the table MAXIMIZING OUR SOCIAL IMPACT 20 Our Targets Our Engagement for Sustainable Palm Oil Cultivation in Indonesia 21 23 24 25 27 The Power of Human Touch – NIVEA’s New Social Mission Eucerin’s Social Mission for Greater Social Participation We Stand Strong for Women and Girls Worldwide Diversity and Inclusion as Key to Success OUTLOOK 30 Continuing our Sustainability Journey in 2022 ANNEX 33 Key Figures at a Glance 34 About this Report 35 Contact Persons 36 Imprint Page reference Web link Highlights 2021 of contents Foreword Dear Readers, At Beiersdorf, we recognize our role in rising to one of the greatest challenges of our time: tackling climate change. In 2021, we successfully reduced our carbon footprint – in absolute terms – for the third year in a row, while continuing our business growth. By the end of 2021, as our consumer business returned to pre-COVID-19 levels, we have reduced our carbon emissions by 12.7% (vs. 2018). We are proud of this result, because it proves business growth and decarbonization can go hand in hand. Decoupling human economic activity from natural resource consumption is perhaps the most challenging and ultimate goal of the global sustainability movement. It has inspired Beiersdorf’s ambitious Sustainability Agenda, with its clear focus on investment and innovation-led reduction of our overall environmental footprint. Vincent Warnery, Chairman of the Executive Board Zhengrong Liu, Member of the Executive Board I Human Resources Transforming our products, including their packaging and formulations, is one of the biggest levers to reduce CO2 emissions. It is something that we’ve committed extra investment and brainpower in recent years. In 2021, we pushed ourselves further, despite continuous economic headwinds caused by the pandemic. Thanks to the ingenuity of our experts and partners, we were able to demonstrate that superior skin care can be achieved in more sustainable ways. Our consumers across the world appreciate that: our new biodegradable shower formulations or mineral oil-free lip care products are just two examples that have been enjoying high popularity with global consumers. Feeling encouraged by the positive sentiment, we launched our “climate care” – bringing climate care to skin care – mission last year. We are anchoring climate protection at the center of our product transformation towards sustainability. You can read more about this and our “climate-neutralized” products in this report. We are proud of this result, because our cross-functional teams made tremendous efforts to turn ambition into reality. Innovating sustainably means exploring new materials and technologies, working in partnership with others alongside new, agile processes. Each reformulation or change to packaging material is preceded by intensive cross-functional collaboration. In the day-to-day setting, sustainability requirements and business KPIs are often not a perfect match. At Beiersdorf, Foreword we have chosen to address such tensions directly. An open attitude and the drive to innovate has hel ped our teams to find solutions. Where reconciliation was not easily possible, we did not shy away from making tough decisions to ensure our ambitious targets were being met. For example, manufacturing products with recycled plastics is more costly and technologically more demanding. But this hasn’t prevented us from increasing the share of recycled plastics in our packing from 1% to 7% with-in a year. Our goal for 2022 is going to be 15%. Achieving our 2015 commitment to make all NIVEA products 100% free of microplastics by the end of 2021 is another excellent example of long-term fruitful collaboration. However, today’s sustainability journey continues to set complex new tasks in front of us. Ensuring skin care performance during the reformulation process or mitigating the color impact of recycled materials are some of the latest challenges our industry faces. Securing the supply of new packaging and raw materials needed for sustainability in times of increasing disruptions in the global supply chain comes on top of an already long list. Beiersdorf’s sustainability community stepped up to these difficulties always in the same fashion: with even more agility, even closer collaboration, and even stronger personal engagement. We thank all of them sincerely for their hard work and dedication to push our sustainability journey forward. We are proud of this result, because we know the standards we apply in setting and measuring our targets are amongst the highest. Our climate target is in line with the latest climate science and is recognized by the “Science-based Target initiative”. By reducing our emissions by 30% in absolute terms by 2025 (vs. 2018), we are among the leading international compa nies in the fight against climate change. We calculate greenhouse gas emissions according to the strict requirements set by the GHG Protocol and we disclose our performance publicly. Our key performance indicators are subject to external verification by renowned, indepen dent partners. In our desire to continuously learn and improve, we regularly invite external experts to critically examine our strategy as well as action plans. A good example for this is our engagement in afforestation projects. Growing the world’s natural capacity to absorb carbon is essential and we are convinced we have a role to play in filling the gap between what is technologically possible in terms of own emission reduction and what the entire world immediately needs. Without financial support from the private sector, many climate projects in the developing world would not have a chance to be implemented. At the same time, we are aware of the controversy surrounding some of the “climate neutral” claims across different industries. We understand and support some of these key critical voices and our stance as Beiersdorf is clear: we prioritize our own ambitious reduction strategy, while at the same time we actively invest in climate projects that remove carbon from the atmosphere. We therefore select projects developed by partners with deep expertise and high international reputation. All our projects are certified according to the highest quality standards. In addition we always seek to support those projects that provide additional benefits to communities and bolster biodiversity. We have also been stepping up internal quality standards on sustainability management. Often neglected, this is something that requires significant investment. At Beiersdorf, we have been treating the continued professionalization and automation of our sustainability data management as a high priority throughout 2021. Our Sustainability Agenda Entrepreneur network into Europe. Together with Ashoka, we are com mitted to supporting five female social innovators who are leading projects that will positively impact the future of girls and women. With our partners CARE and Plan International we initiated ‘Empowering Girls’ mission and advanced well with our projects in Africa and Latin America. This important work addresses COVID-19 related challenges, which disproportionately affect girls and young women. Enjoy the report! We hope you enjoy reading about our 2021 highlights. We thank everyone for their commitment to, and passion for, our sustainability journey. As always, we welcome your feedback and comments. is holistic, including continuous initiatives to serve people and society. In 2021, we expanded our partnership with the Ashoka Social Kind regards Vincent Warnery Zhengrong Liu WE CARE BEYOND SKIN FOR OUR CONSUMERS WE CARE BEYOND SKIN FOR OUR CONSUMERS 06 CARE BEYOND SKIN OUR SUSTAINABILITY ENVIRONMENTAL FOOTPRINT OUR SOCIAL IMPACT Our Values, our Brands, our Strategy COMMITMENT Our Values, our Brands,our Strategy Since 1882 Beiersdorf has stood for innovative skin care. Our unique brands and high-quality skin and body care products set us apart, convincing millions of consumers worldwide – day after day. Every person is different and has their own needs. This naturally applies to skin care, too. Through our products, we respond to our consumersʼ individual expectations and wishes, while keeping global trends and regional characteristics firmly in view. This high proximity to people and markets helps us regularly set new milestones in the sector through our innovations, and continually expand our brand portfolio. We want to remain internationally successful in the future and do so in a sustainable way. Our corporate strategy C.A.R.E.+, which defines sustainability as one of our priorities, guides us in this endeavor, and our core values Care, Simplicity, Courage and Trust provide the compass for our actions. This shared understanding of values gives us the basis for implementing our strategy successfully over the long term. Care is especially important to us here. We apply this value far beyond our core business: Care comprises our responsibility toward people and the environment. This is why “Care Beyond Skin“ is our Corporate Purpose and at the same time the name of our Sustainability Agenda CARE BEYOND SKIN. Overview of 2021: 15,740 employees contributed daily to our success €6.1bn in sales revenues were generated in 2021 HEALING OINTMENT 07 CARE BEYOND SKIN Our Sustainability Agenda CARE BEYOND SKIN Our Sustainability Agenda CARE BEYOND SKIN Sustainability plays a central role in our business strategy C.A.R.E.+, which we have pursued since 2019. In view of this, since 2020 we have consistently implemented our Sustainability Agenda CARE BEYOND SKIN. The Agenda comprises a total of seven focus fields that reflect the impact of our activities along the entire value chain. CARE BEYOND SKIN also means that we take action – to care for people and the environment. We see this as our responsibility and want to make a contribution – not only to the consumers around the world who trust our brands and products but also to society and the environment. To achieve significant progress in the overall topic area of sustainability, all our employees, all corporate functions as well as the regional and country organizations pull together. Our joint ambitious sustainability goals, which we plan to achieve by 2025 and 2030 respectively, help us in this undertaking. OUR SUSTAINABILITY COMMITMENT For Consumer Health and Wellbeing • Trust and Transparency • Product Safety • Skin Health For Employees along our entire Value Chain • Health and Safety • Diversity • Human Rights For an Inclusive Society • Human Touch Projects • Fighting the Stigma of Skin Ailments • Girlsʼ Empowerment MINIMIZING OUR MAXIMIZING ENVIRONMENTAL FOOTPRINT OUR SOCIAL IMPACT For a Climate Positive Future • Reduction of GHG Emissions • Renewable Energy • Use of Renewable Raw Materials For Fully Circular Resources • Renewable and Biodegradable Ingredients • Refillable, Reusable or Recyclable Packaging • Recycled Content in Packaging • Zero Waste to Landfill • Waste Reduction For Sustainable Land Use • Responsible Sourcing • Sustainable Landscape and Smallholder Support For Regenerative Water Environments • Water Use in Production and Products • Water Use in Product Consumption • Clean Water Provision • Protected Marine Environments 08 CARE BEYOND SKIN OUR SUSTAINABILITY ENVIRONMENTAL FOOTPRINT OUR SOCIAL IMPACT Our Partnerships COMMITMENT Our Partnerships As a global company we do not act alone. Especially with regard to current challenges such as climate protection and upholding human rights, it is vital to look beyond the boundaries of our own company. Comprehensive collaboration and cooperation are therefore becoming increasingly important. From the sustainable procurement of raw materials through to improving working and living conditions, we want to make a difference, trigger change processes and play an active role in the overall transformation. For this reason, we actively engage in associations and sustainability initiatives, also across industry boundaries and national borders, and seek to enter strong and lasting partnerships. EUROPEAN BRANDS FORUM FOR SUSTAINABLE ASSOCIATION PALM OIL COSMETICS EUROPE ACTION FOR SUSTAINABLE SUSTAINABLE PACKAGING CERTIFIED DERIVATIVES SUSTAINABLE PALM OIL GLOBAL SHEA ALLIANCE GEMEINSAM RECYCELN PLAN INTERNATIONAL SEDEX MEMBER AIM PROGRESS09 CARE BEYOND SKIN OUR SUSTAINABILITY ENVIRONMENTAL FOOTPRINT OUR SOCIAL IMPACT Our Promise toward Consumers COMMITMENT Our Promise toward Consumers Together with our consumers, we choose to take the path toward a more sustainable future. This makes the CONSUMER Business Segment a vital cornerstone of our Sustainability Agenda. How we fulfill rising expectations It is our top priority to provide our consumers with outstanding skin care products that fully satisfy their very diverse expectations. Our product portfolio therefore promises quality, safety and sustainability. In this we will not only be measured by our words but by our specific actions. Our new packaging and product innovations are an excellent example of how we are meeting the increasing expectations of our consumers regarding sustainability aspects. Committed to 100% transparency Our consumers are increasingly interested in the sustainability and environmental compatibility of product formulas and packaging. In view of this, transparent communication is a key concern for us: It includes regular, candid communication about our sustainability activities and our product ranges. Among other initiatives, we have implemented the motto “100% transparency” in the presentation of the exact recycling proportions in our packaging, for example in the NIVEA Natural Balance series. Beiersdorf also joined the Eco-Beauty Score Consortium in 2021 in response to the need for greater transparency regarding the environmental impact of cosmetic products. The aim of this industry initiative is to develop an evaluation framework that reveals the environmental impact of a cosmetic product for consumers regarding its formula, packaging and application. We guarantee the highest quality and product safety With 140 years of skin care expertise, it is a matter of course for us to develop skin care products that meet the highest quality standards and are absolutely safe to use. Our consumers expect this from us, and we do everything we can to meet their demands. We use scientific methods of the highest standards to extensively research our products and active ingredients to better understand their effect on skin and hair and to ensure the excellent quality and safety of our products. Find more information on the Consumer Business Segment here 11 CARE BEYOND SKIN OUR SUSTAINABILITY ENVIRONMENTAL FOOTPRINT OUR SOCIAL IMPACT COMMITMENT Our Targets Our Targets Protecting nature and the environment is the focus of our Sustainability Agen da CARE BEYOND SKIN. In the ENVI RONMENT area, we have defined four focus fields in which we can and want to achieve a great deal. We have set ourselves ambitious targets to minimize our environmental footprint progressively in all areas. TARGET 4 TARGET 3 TARGET 2 TARGET 1 SDG 30% absolute reduction in Scope 1, 2 and 3 greenhouse gas emissions by 2025 (vs. 2018 base year) PROGRESS Project ongoing Climate-neutral production sites by 2030 PROGRESS Project ongoing 50% reduction in petroleum-based virgin plastics in our packaging by 2025 (vs. 2019 base year) PROGRESS Project ongoing 30% recyclate in our plastic packaging by 2025 (vs. 2019 base year) PROGRESS Project ongoing 100% of our packaging refillable, reusable or recyclable by 2025 PROGRESS Project ongoing 30% reduction in production facility waste by 2025 (vs. base year 2018) PROGRESS Project ongoing 100% of our main renewable raw materials to come from sustainable sources by 2025 PROGRESS Project ongoing Deforestation-free procurement of our main raw materials (incl. palm oil, soy, paper) by 2025 PROGRESS Project ongoing 100% FSC-certified paper by 20201 PROGRESS Target achieved 100 % palm (kernel) oil-based de rivatives from sustainably certified sources by 2020 PROGRESS Target achieved 25% reduction in our water consumption per manufactured product by 2025 (vs. 2018 base year) PROGRESS Project started NIVEA products 100% free of microplastics by the end of 2021 PROGRESS Target achieved Eucerin prodcuts 100% free of microplastics by the end of 2023 PROGRESS Project ongoing Exclusive use of biodegradable polymers in our European product formulations by the end of 2025 PROGRESS Project ongoing 1 Only primary packaging CARE BEYOND SKIN OUR SUSTAINABILITY ENVIRONMENTAL FOOTPRINT OUR SOCIAL IMPACT COMMITMENT Climate Care: Our Holistic Approach to Climate Protection FOR A CLIMATE POSITIVE FUTURE Climate Care: Our Holistic Approach to Climate Protection The fight against climate change is at the heart of our Sustainability Agenda and is the compass for our decisions. Under the umbrella of our “climate care” mission we pursue a holistic approach to drive climate protection forward at all levels. A large share of our emissions is attributable to raw material extraction and procurement, and to packaging. Our goal here is to leverage the full emissions reduction potential, progressively make our product formulas climate-friendlier, and at the same time maintain the high quality of our products. For us this is not a contradiction, but an incentive. Our Climate Roadmap In 2021, a team of experts evaluated our raw materials portfolio to identify those with the greatest impact on total emissions. The result is our internal Climate Road map for reducing CO2 emissions from product ingredients. It will help reduce our overall emissions by 30% by 2025. We are relying on the following measures, among others: • Switchover to plant-based raw materials with a lower CO2 footprint • Increasing our use of ingredients from non-fossil sources • Increasing our use of upcycled ingredients • Procuring our main renewable raw materials from certified sustainable cultivation • Close cooperation with our suppliers to initiate the switchover to renewable energy sources at their production sites All these already delivered results in 2021 that we are very proud of. On the following pages, we of fer you specific examples of our emissions-reduction measures: These demonstrate there is no conflict between sustainable and high-quality product development processes. On the contrary, the vision of climate-friendlier products is a major boost to our innovative drive. CARE BEYOND SKIN OUR SUSTAINABILITY ENVIRONMENTAL FOOTPRINT OUR SOCIAL IMPACT COMMITMENT Climate Care: Our Holistic Approach to Climate Protection Our Approach to Climate Neutralization In addition to our ambitious CO2 reduction targets, we are committed to take further steps. Under the umbrella of our “climate care” mission, we have started investing in projects that store carbon from the atmosphere to balance remaining product-based emissions. An example of these projects includes afforestation efforts that help mitigate climate change. Trees absorb CO2 from the atmosphere through photosynthesis, and the carbon is stored in their biomass, e.g., tree trunks, roots and leaves. We only select climate projects that are certified according to external international standards, such as the Verified Carbon Standard (VCS) or the Gold Standard. This ensures that our climate impact is real, measurable, permanent and third-party verified. Moreover, we focus on projects that provide additional benefits for biodiversity or local communities. The result is a balance between CO2 emissions and CO2 ab sorbed by nature. Whenever we follow this approach, we talk ab-out “climate-neutralized” instead of “climate-neutral” because we want to underline that our products are not completely climate-neutral once they leave our production sites. Instead, climate neutralization is a result of a subsequent action contributing to the fight against climate change. In 2021, our global skin care brand NIVEA launched its first climate neutralized products. They have a significantly reduced CO2 footprint and remaining emissions are balanced through certified climate projects. For example, the NIVEA shower gel range in Germany with round about 30 different products is available in stores as climate-neutralized since June 2021. In the coming years, we will launch additional climate-neutralized products, thereby making it easier for our consumers to make sustainable choices. CARE BEYOND SKIN People and Nature in Balance – Innovative NIVEA Products FOR FULLY CIRCULAR FOR A CLIMATE RESOURCES POSITIVE FUTURE People and Nature inBalance – Innovative NIVEA Products NIVEA is leading by example on our journey toward greater sustainability. Innovative product formulas and modern packaging make the NIVEA product portfolio a pioneer in the transformation of our overall company. Over the past year, NIVEA repeatedly set standards and launched several new products that deliver on our sustainability promise to our consumers. OUR SUSTAINABILITY ENVIRONMENTAL FOOTPRINT OUR SOCIAL IMPACT CARE BEYOND SKIN OUR SUSTAINABILITY ENVIRONMENTAL FOOTPRINT OUR SOCIAL IMPACT COMMITMENT People and Nature in Balance – Innovative NIVEA Products Fewer emissions by using renewable plastics In 2021, we launched our first climate-neutral products with the NIVEA Naturally Good face care range in about 30 countries. Both the jar and the lid of the face creams are made of certified renewable plastic, which enables a significant cut in emissions. The formulas in the range are also particularly sustainble: They are made from 99% natural and vegan ingredients and are free from microplastic.¹ Refilling instead of throwing away NIVEA is currently testing a new product format in the UK: NIVEA EcoRefill is the first refillable hand soap in the form of tabs, combining a sustainable product formula and a sustainable packaging design. The tab is dissolved in a refillable bottle by the consumer at home in tap water and then turns into liquid soap. The formula is 99% biodegradable and contains 97% naturally derived ingredients. The reusable packaging is made of 100% recycled material and the repurchasable tabs can be dissolved in it again and again, delivering significant savings in packaging material. Certified, recycled and recyclable Our new solid facial cleanser NIVEA MagicBAR is vegan and free of microplastics, which makes it possible for consumers to do without plastic packaging for the product. The ingredients are 99% of natural origin.² The packaging philosophy of this cleansing range is based on sustainably sour ced FSC-certified paper and recycled materials. All the packaging is also fully recyclable. We are proud to present NIVEA MagicBAR, our first natural cosmetics range bearing the Ecocert® Cosmos Natural seal. Innovative spray deodorant technology With NIVEA ECODEO, we marketlaunched an innovative spray deodorant in 2021 that is climatefriendlier3 compared to our standard deodorants and also intro duced the industryʼs first 100% recycled aluminum cans. Our ECODEO is based on the innovative Eco-Valve technology, in which nitrogen extracted from the air is the propellant: This saves emissions and also enables us to increase the active ingredient content in the spray cans. The result is that NIVEA ECODEO lasts twice as long as comparable products and thus contributes to lowering packaging waste. The key to success was our intensive cooperation with suppliers and partners. NIVEA worked together with Salford Valve Company Ltd. and Nussbaum Matzingen AG to develop this innovative, more sustainable solution. CARE BEYOND SKIN Eucerin: Dermocosmetics Meets Sustainability FOR FULLY CIRCULAR RESOURCES Eucerin: Dermocosmetics Meets Sustainability Eucerin pursues Beiersdorfʼs ambitious environmental sustainability goals and works continually to ensure the highest product quality, while reducing the negative impact of the products on the ecological balance. We continuously examine our products for their potential to save raw materials, or switch to more sustainable alternatives. Last year, we were able to implement numerous sustainability initiatives in the Eucerin product portfolio. Rethinking packaging – less plastic, more recycling Supporting the circular economy conserves natural resources. This is why we increasingly rely on reusable and recycled materials. Through these and further measures, we promote the use of sustainable raw materials without compromising on the effectiveness of our products. This also holds true for the switchover of our packaging, e.g., for our DermatoCLEAN and DERMO PURE facial cleansing products: Since 2021, these have consisted of 97% recycled PET (rPET). However, that was just the beginning: In the years to come, we will consistently convert further product ranges to rPET packaging. Where possible, we also reduce the use of plastic in our packaging. In 2021, for example, Eucerin switched its Hyaluron-Filler Concentrate over to cardboard packaging, thereby saving 80% plastic compared with the previous version. Goodbye to outer packaging and package inserts Above and beyond, this we have set ourselves the overarching goal of reducing our paper consumption. On the one hand, we are achieving this by doing away with outer packaging. In 2021, for example, we removed the outer packaging of our shampoos and the Atopi Control Lotion (400ml) and thus achieved an annual saving of 44 tonnes of MINIMIZING OUR OUR SUSTAINABILITY ENVIRONMENTAL FOOTPRINT COMMITMENT paper. Further products will follow year after year for which outer packaging is not absolutely necessary. A further step is that we have progressively eliminated our package inserts. Since mid-2021, all our cosmetic products have been produced very largely without package inserts; as a result, we have eliminated 20 million package inserts worldwide every year – the equivalent of 47 tonnes of paper. Further measures will follow over the coming years, such as switching to a lighter paper for products that still require outer packaging. Overall we will save more than 200 tonnes of paper annually by 2025 compared with the 2019 base year, meaning a signi ficant saving in our consumption of natural resources and ultimately in our CO2 emissions as well. MAXIMIZING OUR SOCIAL IMPACT CARE BEYOND SKIN OUR SUSTAINABILITY ENVIRONMENTAL FOOTPRINT OUR SOCIAL IMPACT La Prairie Combines Sustainability and Luxury COMMITMENT FOR FULLY CIRCULAR RESOURCES La Prairie Combines Sustainabilityand Luxury Our luxury brand La Prairie represents the epitome of exclusivity amd excellence. At the same time, it is shaped by its vision of creating a world of timeless beauty – now and in the future. With the Pure Gold Collection, La Prairie heralds a new era that blends timelessness, sustainability and luxury. The Pure Gold Collection – a timeless approach to beauty The products in the Pure Gold Collection reflect the close connection between La Prairieʼs vision of timelessness and the brand’s responsibility toward the environment. Since 2021, the products in this facial care collection have retailed in refillable brushed metal jars, which can be re used indefinitely. Only the glass flasks contained within are replaced when the formula has been exhausted – and these are fully recyclable. With this innovation, La Prairie paves the way for a more sustainable product portfolio, aligned with Beiersdorfʼs CARE BEYOND SKIN Sustainability Agenda. Engagement in research – preserving the beauty of glaciers La Prairieʼs engagement for the protection of nature goes beyond the sustainability of its products. Since 2019, the brand has cooperated with the Institute of Glaciology at the Swiss Federal Institute of Technology, Zurich (ETH Zurich). Both partners are united through their strong bond with their Swiss homeland, and their commitment to exploring and preserving timeless beauty. As a patron, La Prairie supports the university in two research projects investigating the effects of climate change on glaciers in the Swiss Alps. CARE BEYOND SKIN Climate-neutral Production in Leipzig and Berlin FOR A CLIMATE POSITIVE FUTURE Climate-neutral Production in Leipzig and Berlin For us, one thing is certain: Climate change is the greatest challenge of our age. We are tackling this with conviction and determination. To do this, we are taking measures along our entire value chain – not only in developing our products but also in designing our production facilities sustainably. Our production sites are an essential lever in lowering our energyrelated emissions. We are pursuing the goal of climate-neutral operations at all our plants by 2030. Laying the cornerstone in Leipzig A milestone on this journey was the laying of the foundation stone for the new Beiersdorf plant in Leipzig in September 2021. At our new cosmetics production center in the east of Germany, we are focusing on innovation and sustainability. Our new Leipzig plant meets high environmental standards and contributes through numerous aspects to the CARE BEYOND SKIN Sustainability Agenda: The plant is to be operated completely CO2neutrally thanks to the use of renewable energies. It is equipped with a photovoltaic system and charging stations for electric vehicles. Heat, wastewater and ethanol (used for the production of aerosols) can be recovered and reprocessed onsite in a specialized facility. In line with our own standards, we are striving for LEED Gold certi fication for this new building. OUR SUSTAINABILITY COMMITMENT Production at the new plant in Leipzig is scheduled to launch as early as 2022. State-of-the-art logistics hub In the immediate vicinity of the new Leipzig plant, Beiersdorf is planning a state-of-the-art logistics hub. We are explicitly aiming for CO2-neutral operations and sus tainability certification here, too. By greening its façades and roofs, and installing photovoltaic modules on the buildings themselves, we are setting a further example with this new logistics hub. Our existing plants are also becoming more sustainable. In Berlin, where we produce a variety of skin cleansing products such as shower gels and shampoos, production will be climate-neutral from 2022 onwards. Our “capital plant” will switch over fully to biomethane and green electricity at the beginning of 2022 and will thus reduce its CO2 footprint by a total of 99% compared with the 2018 base year. ENVIRONMENTAL FOOTPRINT OUR SOCIAL IMPACT WE CARE BEYOND SKIN FOR OUR SOCIETY We empower people. We encourage social cohesion. We think on a global and local community scale. WE CARE BEYOND SKIN FOR OUR SOCIETY 20 CARE BEYOND SKIN Our Targets Our Targets For us, CARE BEYOND SKIN also means working for a fairer, more inclusive society and strengthening social cohesion. This is why we are engaged in specific fields of action in the area of SOCIETY and have defined correspond ing goals – for our employees, everyone within our value chain and society as a whole. MINIMIZING OUR MAXIMIZING OUR SUSTAINABILITY ENVIRONMENTAL FOOTPRINT OUR SOCIAL IMPACT COMMITMENT TARGET 3 TARGET 2 TARGET 1 SDG Global Beiersdorf Diversity Targets by 2022 - 10% women in Executive Board - 35% women in Management Level 1–3 PROGRESS Project ongoing Beiersdorf Diversity Targets for Germany by 2022: - 35% women in Management Level 1 - 50% women in Management Level 2 PROGRESS Project ongoing Over 90% of suppliers are to accept Code of Conduct for business partners PROGRESS Target achieved By 2023, reach more than 300,000 people 100% transparency toward our consumers directly through our Girlsʼ Empowerment projects in Africa and Latin America PROGRESS PROGRESS Project ongoing Project ongoing By 2023, Eucerin will implement local social projects promoting the quality of life of people affected by skin diseases in at least 15 countries PROGRESS Project ongoing By 2025, NIVEAʼs skin-touch projects will have a positive impact on the individual health and wellbeing of more than 150,000 people, supported by a financial commitment of €20 million PROGRESS Project ongoing CARE BEYOND SKIN Our Engagement for Sustainable Palm Oil Cultivation in Indonesia FOR AN INCLUSIVE FOR SUSTAINABLE SOCIETY LAND USE Our Engagementfor Sustainable Palm Oil Cultivation in Indonesia Together with the WWF, we work to improve the living conditions of smallholder farmers in palm oil cultivation areas. Palm (kernel) oil-based raw materials are an indispensable ingredient in our high-quality cosmetic and personal care products. However, the conventional cultivation of oil palms endangers species-rich landscapes and ecosystems such as the rainforest. Our involvement in projects in Indonesia and Malaysia demonstrates our commitment to a sustainable palm oil cultivation and the local communities. OUR SUSTAINABILITY ENVIRONMENTAL FOOTPRINT OUR SOCIAL IMPACT CARE BEYOND SKIN OUR SUSTAINABILITY ENVIRONMENTAL FOOTPRINT OUR SOCIAL IMPACT COMMITMENT Our Engagement for Sustainable Palm Oil Cultivation in Indonesia The green heart of Borneo The island of Borneo harbors our planet’s second-largest rainforest. But here, not only large industries but also smallholder farmers are hacking down the virgin jungle for new oil palm plantations. For the WWF, this region is therefore an important area for nature conservation. As part of our Palm Sustainability Roadmap, together with WWF, we launched our smallholder farmer project in West Kalimantan, Indonesia, in 2018. The first project phase is expected to be completed in March 2022. Through our engagement we want to help ensure that the green heart of the island of Borneo will continue to beat in the future. We have already achieved a lot within the project period, from promoting sustainable palm oil cultivation to improving the living standards of around 4,500 people in three project villages, including 240 smallholder farmers and their families. Long-term holistic measures With the aim of promoting the sustainable cultivation of oil palms, the local people are trained to manage their plantations accordingly. Further training will be carried out to support the development of smallholder farmer associations. In addition, these farmers are able to purchase high-quality oil palm seedlings and and are supported in establishing contacts with local palm oil mills in order to gain better market access. The WWF and Beiersdorf see it as vital to strengthen these local communities holistically. For example, this includes the development of alternative sources of income that do not depend on the rainforest. We promote female craftswomen through specific training and encourage smallholder farmers to cultivate rubber sustainably. In addition, we support measures to improve the drinking water supply and are committed to a ”Green School“ concept that anchors environmental protection in schools. Our project highlights at a glance • Six new palm oil smallholder farmer groups were established • Largest association in West Kalimantan: The newly founded Palm Oil Farmersʼ Association has 216 farmers with 312 plantations • 211 land plots were legalized (a total of 265 ha, which corresponds to 70% of the plantations within the project) • 198 palm oil smallholders (both men and women) were trained in five training cycles • More than 30 students are attending the ”Green School“ CARE BEYOND SKIN OUR SUSTAINABILITY ENVIRONMENTAL FOOTPRINT OUR SOCIAL IMPACT COMMITMENT The Power of Human Touch – NIVEAʼs New Social Mission FOR AN INCLUSIVE SOCIETY The Power of Human Touch – NIVEA’s New Social Mission The hectic character of modern life, where people are “connected” yet disconnected, has become an obstacle to close relationships, physical touch and human bonding. The deficit of physical touch and lack of closeness have worsened in the COVID-19 pandemic. In January 2021, NIVEA therefore announced its Brand Purpose “Care for Human Touch to Inspire Togetherness.” Under this banner, the NIVEA brand is creating greater awareness of the health benefits of human touch and strengthening human bonds to alleviate the feeling of loneli ness. NIVEAʼs social mission “The Power of Human Touch” is a key instrument in turning these words into action. NIVEA strengthens the power of touch worldwide Under the mission statement “The Power of Human Touch,” NIVEA is supporting local projects worldwide to improve the quality of life of people at risk of loneliness, including premature babies, people with visual impairments, and elderly dementia patients. By 2025, NIVEA wants to invest €20 million in these projects around the world to make a positive impact on the health and wellbeing of over 150,000 individuals. NIVEA supports UNICEF UK Each year, more than 15 million children are born prematurely worldwide – and we know that touch is crucial to their development. Skin-to-skin contact is vital in neonatal units, where it is often known as kangaroo care. It helps parents bond with their baby, as well as supporting better physical and developmental outcomes for the baby. As international studies have shown, the kangaroo met hod benefits the entire mental and social development of the premature baby – right into adulthood. For this reason, NIVEA supports UNICEF UK’s work to ensure that babies on neonatal units get as much skin-to-skin contact as possible by funding UNICEF UK’s National Neonatal Project, an initiative designed to support 18 neonatal units in the UK to achieve Baby Friendly accreditation. Skin-to-skin contact is a part of UNICEF UK’s Baby Friendly standards and helps babies adjust to life outside the womb. CARE BEYOND SKIN Eucerinʼs Social Mission for Greater Social Participation FOR AN INCLUSIVE SOCIETY Eucerin’s Social Mission for Greater Social Participation “We believe in the life-changing power of dermatological skin care” – with this Brand Purpose, Eucerin affirms that our products can have a positive effect far beyond the skin’s surface. Skin diseases can have profound consequences: Many people with visible skin diseases suffer from the feeling of exclusion and stigmatization, which can lead to psychological and social stress. This is why we at Eucerin are committed to the social inclusion of people with skin diseases. For better quality of life and social participation In 2021 Eucerinʼs new global social mission was launched. By 2023, together with local professional organizations in at least 15 countries, Eucerin will implement projects for individuals and groups of all ages with visible skin diseases. In these projects, people are supported in confronting social exclusion with greater self-confidence, in order to regain their quality of life and social participation. Another concern is the alleviation of psychological stress through targeted measures and training. Last year, we already launched projects of this type in four countries. More self-confidence for people with ichthyosis An example of one of our ongoing projects is the cooperation between OUR SUSTAINABILITY COMMITMENT Eucerin and Aquaphor with the Foundation for Ichthyosis & Related Skin Types (FIRST) in the USA. Ichthyosis is a form of severe skin dryness with excessive dandruff. Those affected are often psychologically burdened and tend toward social withdrawal and frustration. This joint project aims to relieve and encourage teenagers and young adults suffering from ichthysosis. Targeted workshops give these sufferers the required skills and knowledge to deal with the disease personally, strengthen their self-confidence, promote their social integration and alleviate the psychological burden of the disease. ENVIRONMENTAL FOOTPRINT OUR SOCIAL IMPACT CARE BEYOND SKIN OUR SUSTAINABILITY ENVIRONMENTAL FOOTPRINT OUR SOCIAL IMPACT COMMITMENT We Stand Strong for Women and Girls Worldwide FOR AN INCLUSIVE SOCIETY We Stand Strong for Women and Girls Worldwide Young women and girls around the world are affected by unequal treatment – and this is made worse by crisis situations such as the COVID-19 pandemic. Young women and girls in particular often carry out activities in which they are exposed to a higher risk of infection, for example when providing care at home. In addition, in crises there is a growing risk that girls experience violence, are married off against their will and have to leave school prematurely. Aligned with our vision of an inclusive society, we want to counteract this. CARE BEYOND SKIN OUR SUSTAINABILITY ENVIRONMENTAL FOOTPRINT OUR SOCIAL IMPACT COMMITMENT We Stand Strong for Women and Girls Worldwide Susan Wasakania is a mother of five and earns her living by selling shoes and clothes. She dreams of giving disadvantaged girls and women in her village access to economic support by raising their awareness of the VSLA groups as part of the CARE project. Our strategic focus of empowering girls Empowering girls and young women is a focus of our Sustainability Agenda, because where girls grow up healthy, educated and free of violence, everyone benefits. By 2023, Beiersdorf aims to reach more than 300,000 people through “Empowering Girls” projects in Africa and Latin America. To achieve this, we are working closely together with two global NGOs, Plan International and CARE. The starting point of this commitment was our COVID-19 relief program launched in 2020, through which Beiersdorf is supporting people particularly affected by the pandemic. Our joint engagement with CARE Together with the NGO CARE, we launched projects in four African countries in 2021 to strengthen the healthcare and livelihoods of girls and women in particular. In Kenya, for example, CARE and Beiersdorf launched a health pro-gram through which we are sensitizing people to health issues and informing them regarding COVID-19 prevention via local radio channels and hygiene messages. At the same time, girls and young women, among other social groups, can access economic support in so-called Village Savings and Loan Associations (VSLAs). Here they acquire knowledge of financial topics such as loans and savings installments; this ensures that girls and women progressively become more independent and can raise their voices more confidently in family and social contexts. They are also learning new ways to provide for themselves and their families independently in times of the pandemic and beyond. Our commitment to Plan International Beiersdorf and Plan International are both committed to promoting and protecting girls and young women, to give them the opportunity of equality and self-determination in life. The focus is on six countries in South America and Africa that have been affected by COVID-19. The focus of our joint actions, through which we aim to initiate important changes step by step, is structured on three levels: access to education and mentoring, training for families and communities, and collaboration with governmental authorities. In doing so, we want to help the girls as well as the communities in which they live to better manage the medium-and long-term socioeconomic impacts of the COVID-19 pandemic. As part of a back-to-school campaign, “ZURI Guides” are being distributed in Colombia, for example: These are intended for children and adolescents and provide information on COVID-19 as well as activities on mathematics, communication and socioemotional support. Around 1,500 “ZURI Guides” have already been distributed to students in the project area since the project launch. CARE BEYOND SKIN Diversity and Inclusion as Key to Success FOR EMPLOYEES ALONG OUR ENTIRE VALUE CHAIN Diversity and Inclusion as Key to Success We celebrate diversity and see it both as the key to success and a prerequisite for mastering the challenges of tomorrow. Within our company-wide Diversity & Inclusion strategy, we successfully reached our first milestones in 2021 and launched several related initiatives. Starting over with our D&I Roadmap In the reporting year, we formulated a new Beiersdorf “Diversity & Inclusion Strategy Roadmap” to help us drive our strategy forward and deepen our culture of Diversity & Inclusion. In addition, we developed a KPI dashboard to contribute to full data transparency and thus make changes measurable and assessable. The implementation of our Roadmap is based on three strategic priorities: • Promoting leadership diversity • Promoting an inclusive culture • Promoting the representation of our consumers Gender balance in the spotlight In addition to international, cross-generational and cultural diversity, we are focusing on gender equality – and in particular, equal opportunities for women and men. We are working to strengthen the awareness of gen-der balance among all colleagues and supporting employees through our gender diversity initiative “en-COURAGE.” Within this context, we already held the fifth “Wo*men in Leadership Convention” in November 2021, under the banner of “Kickstart your inner potential.” Successful female leaders and external guests regularly report on their experiences OUR SUSTAINABILITY COMMITMENT in order to motivate, inspire and learn together. Right on time for International Womenʼs Day on March 8, 2021, we publicly announced our “Beiersdorf Gender Parity Ambition”: This states that by 2025 at the latest, we want to achieve a 50:50 gender parity ratio in assigning management positions below Executive Board level. ENVIRONMENTAL FOOTPRINT OUR SOCIAL IMPACT CARE BEYOND SKIN OUR SUSTAINABILITY ENVIRONMENTAL FOOTPRINT OUR SOCIAL IMPACT COMMITMENT Diversity and Inclusion as Key to Success Deepening knowledge In order to expand the knowledge framework surrounding the topic of Diversity & Inclusion, we implemented a variety of measures in the year under review. For example, these included the first pilot of “D&I-Inclusive Language Training,” which aimed to sensitize employees to a D&I-sensitive, nuanced use of language. The offer in this area was supplemented by workshops for managers to promote an inclusive culture as well as by a pilot course for our recruiters to formulate texts in job advertisements that integrate even more inclusive, gender-sensitive language in future. March 8 May 17–21 We celebrate diversity through numerous initiatives and events To promote our integrative culture holistically, we also rely on our employee networks – the “grassroots communities.” For instance, the community “wenited” was created in the reporting year, which works to promote the exchange and cohesion of international colleagues. The “#SisterhoodisPower” community established the digital #Powertalk series in 2021 among other initiatives, in which inspiring and successful leaders share their stories and thoughts. Also in 2021, the “Generation 50+” network launched learning July 22 International Global Diversity & Pride Day Womenʼs Day; Inclusion Week Germany announcement of Beiersdorf Gender Parity Ambition sessions on the subject of digitali zation for the first time. In addition, we carried out activities that included the annual “Global Diversity & Inclusion Week,” “Pride Day Germany” and – for the first time – the “Beiersdorf Pride Festival.” All events took place online and offered participants a colorful mix of discussion panels, workshops, personal experience reports and keynotes by internal and external speakers. 3,000 participants joined our digital events during Diversity & Inclusion Week August 4–5 November 23 Beiersdorf Fifth Wo*men Pride Festival in Leadership Convention WE CARE BEYOND SKIN FOR OUR FUTURE WE CARE BEYOND SKIN FOR OUR FUTURE 30 CARE BEYOND SKIN Continuing our Sustainability Journey in 2022 Continuing our SustainabilityJourney in 2022 Now that we are in 2022, we are eager to continue our journey to deliver on Beiersdorf’s CARE BEYOND SKIN Sustainability Agenda. As part of this, we will introduce new initiatives across our three impact areas: ENVIRONMENT, SOCIETY and CONSUMER. At the heart of our transformation is our “Climate Care” mission We have high aspirations and have set one of the most ambitious targets in the industry to tackle the enormous challenge we are all facing: climate change. Looking at where we stand today and the progress we have made on our reduction pathway, I am confident we can achieve our 2025 commitment of 30% absolute emissions reduction. However, there will be challenges ahead, and hard work, passion and an innovative spirit will be required every step of the way. The momentum for change I see in teams across the Beiersdorf network signals a very positive outlook for the year ahead. This motivation is essential to making our transformation for a more sustainable future a success. Following the launch of our first climate-neutralized products in 2021, we will continue this approach in 2022. We will introduce our “climate-neutralized” promise to more of our products, which have demonstrated good progress on emissions reduction. Our NIVEA Shower range, which is already one of our most sustainable, will continue its sustainability journey and we will optimize its packaging to further reduce its emissions. We will also be expanding the use of 100% recycled aluminum packaging across our deodorant range. I am very grateful to our R&D teams for their dedicated work in these areas. Looking beyond NIVEA, we will see big steps being taken also across our other brands in 2022: La Prairie will launch its new sustainability agenda and Hansa plast has just released its first “climate neutralized” product. At Eucerin, we will also see progress on a product level, supporting the delivery of Beiersdorf’s overall sustainability targets. We will foster transformation beyond our company boundaries What is also essential in 2022 is continued external and interdisciplinary collaboration. We will advance our work with key stakeholders, in particular suppliers, our NGO partners, and cross-industry initiatives, like the Eco-Beauty Score Consortium. Continuing our dedicated and holistic sustainability journey in 2022, I look forward to seeing Beiersdorf present itself as a leading light for our industry. Jean-François Pascal Vice President Corporate Sustainability 31 CARE BEYOND SKIN OUR SUSTAINABILITY ENVIRONMENTAL FOOTPRINT OUR SOCIAL IMPACT COMMITMENT Continuing our Sustainability Journey in 2022 We know that when it comes to driving real change, there is power in numbers. In January this year, we signed an open letter urging the UN to negotiate and implement a global treaty on plastic pollution. Along with other leading companies, we have called for a coordinated response to this growing crisis that will align businesses and governments. This question gains urgency with each day that passes, and we hope that 2022 will be the year that it is answered. A further key priority in 2022 will be our work within the Eco-Beauty Score Consortium, which aims to develop an industry-wide environmental impact assessment and scoring system for cosmetics products. Pursuing our transparency promise and target of enabling consumers to make sustainable choices, we are eager to support this initiative through our expertise in environmental impact assessment. Another important step for 2022 will be Beiersdorf’s engagement in a strategic partnership with the World Wide Fund for Nature (WWF Germany). In previous years, we have successfully worked together on dedicated projects around sustainable palm oil. Now, we are stepping up to a more holistic partnership with the central goal to further fuel our business transformation and strengthen our CARE BEYOND SKIN Sus tainability Agenda. We are the first company in our industry to take such an integrated approach with the WWF. In 2022, we will continue to thrive for our vision of an Inclusive Society By building on our strong engagements with our NGO partners Plan International, CARE, Ashoka and many more, we impact individuals, communities and society as a whole. Eucerin, for example, will launch new local projects that aim to fight the stigma of visible skin diseases and enhance the quality of life and societal participation of patients in different parts of the world. This mission is not only a testament to Eucerin’s life-changing power of dermatological skin care but also a true manifestation of CARE BEYOND SKIN. Continuing our dedicated and holistic sustainability journey in 2022, I look forward to seeing Beiersdorf present itself as a leading light for our industry. We hope you will follow along as our journey continues. ANNEX ANNEX 33 CARE BEYOND SKIN OUR SUSTAINABILITY ENVIRONMENTAL FOOTPRINT OUR SOCIAL IMPACT COMMITMENT Key Figures at a Glance Key Figures at a Glance Consumer Business Segment Unit 2020 2021 34 CARE BEYOND SKIN OUR SUSTAINABILITY ENVIRONMENTAL FOOTPRINT OUR SOCIAL IMPACT COMMITMENT About this Report About this Report Within the Consumer Business Segment, transparent reporting on our sustainability activities is firmly established. We have been reporting on strategic approaches, projects and measures in the area of sustainability since 2003. Our reporting aims to reach all stakeholders equally. To meet their different expectations and information needs, we use a variety of reporting formats. With the Sustainability Highlight Report “CARE BEYOND SKIN,” the Consumer Business Segment presents a selection of particularly outstanding projects from 2021. They exemplify how sustainability is an integral part at Beiersdorf and how it is driven forward by the passion of our employees around the world. Within the scope of our sustainability reporting, we have been publishing our Combined Non-financial Statement (NFS) for the Beiersdorf Group (Consumer Business Segment and tesa) and Beiersdorf AG within our Annual Report since 2020. It provides further information and key figures in accordance with the Non-Financial Reporting Directive (NFRD). The tesa Business Segment publishes its own Sustainabilty Report on its website. You can find the tesa Sustainability Report here <BR> Alongside transparency, comparability in our reporting is of great importannce to us. We follow internationally recognized reporting frameworks, including the guidelines of the Global Reporting Initiative (GRI). The corresponding GRI Index 2021 for the Consumer Business Segment is available for download from our website as a separate document. In the reporting year, we also disclosed information on climate-related opportunities and risks for the first time in accordance with the recommendations of the Task Force on Climate-Related Financial Disclosures (TCFD). Our commitment to sustainability is part of our day-to-day business and is constantly evolving. We provide up-to-date information on what we are currently working on and what progress we are making on our Sustainability website. Reports and additional information from previous years are available as well. CLICK HERE FOR OUR DOWNLOAD CENTER 35 CARE BEYOND SKIN OUR SUSTAINABILITY ENVIRONMENTAL FOOTPRINT OUR SOCIAL IMPACT Contact Persons Contact Persons Jean-François Pascal Dorle Bahr Vice President Corporate Sustainability Head of Environmental Sustainability Valerie Kruck Peer Petersen Global Head of CSR Head of Sustainable Innovation and Transformation Imprint OUR SUSTAINABILITY ENVIRONMENTAL FOOTPRINT OUR SOCIAL IMPACT Published by Beiersdorf Aktiengesellschaft Unnastrasse 48, 20245 Hamburg, Germany Editorial Team and Concept Corporate Sustainability Corp.Sustainability@Beiersdorf.com Design Berichtsmanufaktur GmbH, Hamburg Text Beiersdorf Corporate Communications, Corporate Sustainability Berichtsmanufaktur GmbH, Hamburg English Translation World2World Hamburg, Jim Blake Copyright GettyImages: Title: Uwe Krejci; p. 05, Westend61; p. 24, Natalie Abbey-Allan; p. 29, Westend61; iStock: p. 19, jacoblund; p. 20, PeopleImages; Shutterstock: p. 20, fizkes; Stocksy: p. 20, Victor Torres; Unsplash: p. 02, Genevieve Dallaire; p. 10, Trent Haaland; p. 11, Appolinary Kalashnikova; p. 11, Hans Eiskonen; p. 11, Anastasia Taioglou; p. 12, Meredith Petrick; p. 31, Ivan Bandura; p. 34, Dawid Liberadzki; Others: p. 21, Severianus Endi/WWF Indonesia; p. 22, Aldi Khatami/WWF Indonesia; p. 23, Acios; p. 25, Plan International/ Vincent Tremeau; p. 26, CARE/Job Mainye Further Information www.beiersdorf.com/sustainability/overview'"
      ]
     },
     "execution_count": 46,
     "metadata": {},
     "output_type": "execute_result"
    }
   ],
   "source": [
    "# merge CDP score with the esg data so that we have a score for each document\n",
    "merged_df = pd.merge(esg_documents_df, cdp_scores_df, how='left', left_on='symbol', right_on='Ticker')\n",
    "\n",
    "merged_df.dropna(subset=['CDP Score'], inplace=True) # drop rows without a CDP score\n",
    "\n",
    "# print(merged_df[['symbol', 'CDP Score']])\n",
    "# print(len(merged_df))\n",
    "s = merged_df.head(1)['content'].item() # this is how to get the text alone\n",
    "s.count()"
   ]
  },
  {
   "cell_type": "code",
   "execution_count": 50,
   "metadata": {},
   "outputs": [
    {
     "data": {
      "text/plain": [
       "array(['Beiersdorf AG', 'Deutsche Telekom AG', 'Vonovia SE', 'Merck KGaA',\n",
       "       'MTU', 'E ONSE', 'RWE AG', 'Heidelberg Cement AG', 'Siemens AG',\n",
       "       'Qiagen', 'Continental AG', 'Bayer AG', 'Volkswagen AG',\n",
       "       'Fresenius', 'Symrise AG', 'Sartorius AG', 'Porsche', 'SAP',\n",
       "       'Adidas AG', 'Deutsche Bank AG', 'Puma SE', 'Airbus SE',\n",
       "       'Covestro AG', 'Allianz SE', 'Infineon Technologies AG', 'BMW',\n",
       "       'Hannover R AG', 'Siemens Energy', 'Zalando SE',\n",
       "       'Muenchener Rueckversicherungs Gesellschaft AGin Muenchen',\n",
       "       'BASF SE', 'Deutsche Boerse AG', 'Brenntag', 'AkzoNobelNV',\n",
       "       'Vonovia'], dtype=object)"
      ]
     },
     "execution_count": 50,
     "metadata": {},
     "output_type": "execute_result"
    }
   ],
   "source": [
    "# big companies that I know\n",
    "# Adidas, Volkswagen, Porsche, Siemens (AG and Energy), Merck, Airbus, Puma, Allianz, Brenntag\n",
    "merged_df['company'].unique()"
   ]
  },
  {
   "cell_type": "markdown",
   "metadata": {},
   "source": [
    "## Preprocessing"
   ]
  },
  {
   "cell_type": "code",
   "execution_count": 22,
   "metadata": {},
   "outputs": [],
   "source": [
    "from sklearn.feature_extraction.text import CountVectorizer\n",
    "\n",
    "vectorizer = CountVectorizer(\n",
    "    lowercase=True,\n",
    "    stop_words='english',\n",
    "    token_pattern=r'\\b\\w+\\b' # Only keep word tokens\n",
    ")\n",
    "\n",
    "bow_matrix = vectorizer.fit(esg_documents_df['content'].fillna(''))\n",
    "# can use the bow_matrix in the next step for building a model"
   ]
  },
  {
   "cell_type": "markdown",
   "metadata": {},
   "source": [
    "## Model Fitting"
   ]
  },
  {
   "cell_type": "code",
   "execution_count": null,
   "metadata": {},
   "outputs": [],
   "source": [
    "# TODO here we should try and build a model that correlates the preprocessed\n",
    "# data to the column of our choice in the sp500_risk_ratings dataset"
   ]
  },
  {
   "cell_type": "code",
   "execution_count": 5,
   "metadata": {},
   "outputs": [
    {
     "name": "stderr",
     "output_type": "stream",
     "text": [
      "/Users/jacksonmiskill/class/f24/nlp/project/venv-3.11/lib/python3.11/site-packages/tqdm/auto.py:21: TqdmWarning: IProgress not found. Please update jupyter and ipywidgets. See https://ipywidgets.readthedocs.io/en/stable/user_install.html\n",
      "  from .autonotebook import tqdm as notebook_tqdm\n"
     ]
    }
   ],
   "source": [
    "# Load model directly\n",
    "from transformers import AutoTokenizer, AutoModelForSequenceClassification\n",
    "\n",
    "tokenizer = AutoTokenizer.from_pretrained(\"ProsusAI/finbert\")\n",
    "model = AutoModelForSequenceClassification.from_pretrained(\"ProsusAI/finbert\")"
   ]
  },
  {
   "cell_type": "code",
   "execution_count": null,
   "metadata": {},
   "outputs": [],
   "source": [
    "positive_example = \"we have reduced our carbon emissions by 12.7% (vs. 2018)\"\n",
    "neutral_example = \"We are proud of this result\"\n",
    "negative_example = \"We have increased our carbon emissions by 12.7% (vs. 2018), which is a very bad thing\"\n",
    "\n",
    "inputs = tokenizer(negative_example, return_tensors=\"pt\")\n",
    "\n",
    "with torch.no_grad():\n",
    "    logits = model(**inputs).logits\n",
    "\n",
    "    "
   ]
  },
  {
   "cell_type": "code",
   "execution_count": 23,
   "metadata": {},
   "outputs": [
    {
     "data": {
      "text/plain": [
       "'negative'"
      ]
     },
     "execution_count": 23,
     "metadata": {},
     "output_type": "execute_result"
    }
   ],
   "source": [
    "predicted_class_id = logits.argmax().item()\n",
    "model.config.id2label[predicted_class_id]"
   ]
  },
  {
   "cell_type": "markdown",
   "metadata": {},
   "source": [
    "## Model Analysis"
   ]
  },
  {
   "cell_type": "code",
   "execution_count": null,
   "metadata": {},
   "outputs": [],
   "source": [
    "# TODO check how well our model did here"
   ]
  },
  {
   "cell_type": "markdown",
   "metadata": {},
   "source": [
    "# Data Sources\n",
    "- https://www.kaggle.com/datasets/pritish509/s-and-p-500-esg-risk-ratings\n",
    "- https://www.kaggle.com/datasets/equintel/dax-esg-media-dataset"
   ]
  },
  {
   "cell_type": "markdown",
   "metadata": {},
   "source": [
    "# References"
   ]
  },
  {
   "cell_type": "markdown",
   "metadata": {},
   "source": [
    "# Scratch Work"
   ]
  },
  {
   "cell_type": "code",
   "execution_count": 4,
   "metadata": {},
   "outputs": [
    {
     "data": {
      "text/html": [
       "<div>\n",
       "<style scoped>\n",
       "    .dataframe tbody tr th:only-of-type {\n",
       "        vertical-align: middle;\n",
       "    }\n",
       "\n",
       "    .dataframe tbody tr th {\n",
       "        vertical-align: top;\n",
       "    }\n",
       "\n",
       "    .dataframe thead th {\n",
       "        text-align: right;\n",
       "    }\n",
       "</style>\n",
       "<table border=\"1\" class=\"dataframe\">\n",
       "  <thead>\n",
       "    <tr style=\"text-align: right;\">\n",
       "      <th></th>\n",
       "      <th>Symbol</th>\n",
       "      <th>Name</th>\n",
       "      <th>Address</th>\n",
       "      <th>Sector</th>\n",
       "      <th>Industry</th>\n",
       "      <th>Full Time Employees</th>\n",
       "      <th>Description</th>\n",
       "      <th>Total ESG Risk score</th>\n",
       "      <th>Environment Risk Score</th>\n",
       "      <th>Governance Risk Score</th>\n",
       "      <th>Social Risk Score</th>\n",
       "      <th>Controversy Level</th>\n",
       "      <th>Controversy Score</th>\n",
       "      <th>ESG Risk Percentile</th>\n",
       "      <th>ESG Risk Level</th>\n",
       "    </tr>\n",
       "  </thead>\n",
       "  <tbody>\n",
       "    <tr>\n",
       "      <th>0</th>\n",
       "      <td>ENPH</td>\n",
       "      <td>Enphase Energy, Inc.</td>\n",
       "      <td>47281 Bayside Parkway\\nFremont, CA 94538\\nUnit...</td>\n",
       "      <td>Technology</td>\n",
       "      <td>Solar</td>\n",
       "      <td>3,157</td>\n",
       "      <td>Enphase Energy, Inc., together with its subsid...</td>\n",
       "      <td>NaN</td>\n",
       "      <td>NaN</td>\n",
       "      <td>NaN</td>\n",
       "      <td>NaN</td>\n",
       "      <td>NaN</td>\n",
       "      <td>NaN</td>\n",
       "      <td>NaN</td>\n",
       "      <td>NaN</td>\n",
       "    </tr>\n",
       "    <tr>\n",
       "      <th>1</th>\n",
       "      <td>EMN</td>\n",
       "      <td>Eastman Chemical Company</td>\n",
       "      <td>200 South Wilcox Drive\\nKingsport, TN 37662\\nU...</td>\n",
       "      <td>Basic Materials</td>\n",
       "      <td>Specialty Chemicals</td>\n",
       "      <td>14,000</td>\n",
       "      <td>Eastman Chemical Company operates as a special...</td>\n",
       "      <td>25.3</td>\n",
       "      <td>12.8</td>\n",
       "      <td>6.6</td>\n",
       "      <td>5.8</td>\n",
       "      <td>Moderate Controversy Level</td>\n",
       "      <td>2.0</td>\n",
       "      <td>50th percentile</td>\n",
       "      <td>Medium</td>\n",
       "    </tr>\n",
       "    <tr>\n",
       "      <th>2</th>\n",
       "      <td>DPZ</td>\n",
       "      <td>Domino's Pizza Inc.</td>\n",
       "      <td>30 Frank Lloyd Wright Drive\\nAnn Arbor, MI 481...</td>\n",
       "      <td>Consumer Cyclical</td>\n",
       "      <td>Restaurants</td>\n",
       "      <td>6,500</td>\n",
       "      <td>Domino's Pizza, Inc., through its subsidiaries...</td>\n",
       "      <td>29.2</td>\n",
       "      <td>10.6</td>\n",
       "      <td>6.3</td>\n",
       "      <td>12.2</td>\n",
       "      <td>Moderate Controversy Level</td>\n",
       "      <td>2.0</td>\n",
       "      <td>66th percentile</td>\n",
       "      <td>Medium</td>\n",
       "    </tr>\n",
       "    <tr>\n",
       "      <th>3</th>\n",
       "      <td>DAY</td>\n",
       "      <td>Dayforce, Inc.</td>\n",
       "      <td>3311 East Old Shakopee Road\\nMinneapolis, MN 5...</td>\n",
       "      <td>Technology</td>\n",
       "      <td>Software - Application</td>\n",
       "      <td>9,084</td>\n",
       "      <td>Dayforce Inc., together with its subsidiaries,...</td>\n",
       "      <td>NaN</td>\n",
       "      <td>NaN</td>\n",
       "      <td>NaN</td>\n",
       "      <td>NaN</td>\n",
       "      <td>NaN</td>\n",
       "      <td>NaN</td>\n",
       "      <td>NaN</td>\n",
       "      <td>NaN</td>\n",
       "    </tr>\n",
       "    <tr>\n",
       "      <th>4</th>\n",
       "      <td>DVA</td>\n",
       "      <td>Davita Inc.</td>\n",
       "      <td>2000 16th Street\\nDenver, CO 80202\\nUnited States</td>\n",
       "      <td>Healthcare</td>\n",
       "      <td>Medical Care Facilities</td>\n",
       "      <td>70,000</td>\n",
       "      <td>DaVita Inc. provides kidney dialysis services ...</td>\n",
       "      <td>22.6</td>\n",
       "      <td>0.1</td>\n",
       "      <td>8.4</td>\n",
       "      <td>14.1</td>\n",
       "      <td>Moderate Controversy Level</td>\n",
       "      <td>2.0</td>\n",
       "      <td>38th percentile</td>\n",
       "      <td>Medium</td>\n",
       "    </tr>\n",
       "    <tr>\n",
       "      <th>...</th>\n",
       "      <td>...</td>\n",
       "      <td>...</td>\n",
       "      <td>...</td>\n",
       "      <td>...</td>\n",
       "      <td>...</td>\n",
       "      <td>...</td>\n",
       "      <td>...</td>\n",
       "      <td>...</td>\n",
       "      <td>...</td>\n",
       "      <td>...</td>\n",
       "      <td>...</td>\n",
       "      <td>...</td>\n",
       "      <td>...</td>\n",
       "      <td>...</td>\n",
       "      <td>...</td>\n",
       "    </tr>\n",
       "    <tr>\n",
       "      <th>498</th>\n",
       "      <td>ACN</td>\n",
       "      <td>Accenture Plc</td>\n",
       "      <td>1 Grand Canal Square\\nGrand Canal Harbour\\nDub...</td>\n",
       "      <td>Technology</td>\n",
       "      <td>Information Technology Services</td>\n",
       "      <td>742,000</td>\n",
       "      <td>Accenture plc, a professional services company...</td>\n",
       "      <td>9.8</td>\n",
       "      <td>0.8</td>\n",
       "      <td>4.4</td>\n",
       "      <td>4.6</td>\n",
       "      <td>Moderate Controversy Level</td>\n",
       "      <td>2.0</td>\n",
       "      <td>3rd percentile</td>\n",
       "      <td>Negligible</td>\n",
       "    </tr>\n",
       "    <tr>\n",
       "      <th>499</th>\n",
       "      <td>ABBV</td>\n",
       "      <td>Abbvie Inc.</td>\n",
       "      <td>1 North Waukegan Road\\nNorth Chicago, IL 60064...</td>\n",
       "      <td>Healthcare</td>\n",
       "      <td>Drug Manufacturers - General</td>\n",
       "      <td>50,000</td>\n",
       "      <td>AbbVie Inc. discovers, develops, manufactures,...</td>\n",
       "      <td>29.9</td>\n",
       "      <td>2.4</td>\n",
       "      <td>10.4</td>\n",
       "      <td>17.2</td>\n",
       "      <td>Significant Controversy Level</td>\n",
       "      <td>3.0</td>\n",
       "      <td>69th percentile</td>\n",
       "      <td>Medium</td>\n",
       "    </tr>\n",
       "    <tr>\n",
       "      <th>500</th>\n",
       "      <td>ABT</td>\n",
       "      <td>Abbott Laboratories</td>\n",
       "      <td>100 Abbott Park Road\\nAbbott Park\\nNorth Chica...</td>\n",
       "      <td>Healthcare</td>\n",
       "      <td>Medical Devices</td>\n",
       "      <td>114,000</td>\n",
       "      <td>Abbott Laboratories, together with its subsidi...</td>\n",
       "      <td>24.8</td>\n",
       "      <td>2.3</td>\n",
       "      <td>8.3</td>\n",
       "      <td>14.2</td>\n",
       "      <td>Significant Controversy Level</td>\n",
       "      <td>3.0</td>\n",
       "      <td>48th percentile</td>\n",
       "      <td>Medium</td>\n",
       "    </tr>\n",
       "    <tr>\n",
       "      <th>501</th>\n",
       "      <td>AOS</td>\n",
       "      <td>A.O. Smith Corporation</td>\n",
       "      <td>11270 West Park Place\\nSuite 170 PO Box 245008...</td>\n",
       "      <td>Industrials</td>\n",
       "      <td>Specialty Industrial Machinery</td>\n",
       "      <td>12,000</td>\n",
       "      <td>A. O. Smith Corporation manufactures and marke...</td>\n",
       "      <td>25.4</td>\n",
       "      <td>7.2</td>\n",
       "      <td>6.4</td>\n",
       "      <td>11.9</td>\n",
       "      <td>Low Controversy Level</td>\n",
       "      <td>1.0</td>\n",
       "      <td>51st percentile</td>\n",
       "      <td>Medium</td>\n",
       "    </tr>\n",
       "    <tr>\n",
       "      <th>502</th>\n",
       "      <td>MMM</td>\n",
       "      <td>3m Company</td>\n",
       "      <td>3M Center\\nSaint Paul, MN 55144-1000\\nUnited S...</td>\n",
       "      <td>Industrials</td>\n",
       "      <td>Conglomerates</td>\n",
       "      <td>85,000</td>\n",
       "      <td>3M Company provides diversified technology ser...</td>\n",
       "      <td>37.3</td>\n",
       "      <td>17.2</td>\n",
       "      <td>6.5</td>\n",
       "      <td>13.6</td>\n",
       "      <td>Severe Controversy Level</td>\n",
       "      <td>5.0</td>\n",
       "      <td>89th percentile</td>\n",
       "      <td>High</td>\n",
       "    </tr>\n",
       "  </tbody>\n",
       "</table>\n",
       "<p>503 rows × 15 columns</p>\n",
       "</div>"
      ],
      "text/plain": [
       "    Symbol                      Name  \\\n",
       "0     ENPH      Enphase Energy, Inc.   \n",
       "1      EMN  Eastman Chemical Company   \n",
       "2      DPZ       Domino's Pizza Inc.   \n",
       "3      DAY            Dayforce, Inc.   \n",
       "4      DVA               Davita Inc.   \n",
       "..     ...                       ...   \n",
       "498    ACN             Accenture Plc   \n",
       "499   ABBV               Abbvie Inc.   \n",
       "500    ABT       Abbott Laboratories   \n",
       "501    AOS    A.O. Smith Corporation   \n",
       "502    MMM                3m Company   \n",
       "\n",
       "                                               Address             Sector  \\\n",
       "0    47281 Bayside Parkway\\nFremont, CA 94538\\nUnit...         Technology   \n",
       "1    200 South Wilcox Drive\\nKingsport, TN 37662\\nU...    Basic Materials   \n",
       "2    30 Frank Lloyd Wright Drive\\nAnn Arbor, MI 481...  Consumer Cyclical   \n",
       "3    3311 East Old Shakopee Road\\nMinneapolis, MN 5...         Technology   \n",
       "4    2000 16th Street\\nDenver, CO 80202\\nUnited States         Healthcare   \n",
       "..                                                 ...                ...   \n",
       "498  1 Grand Canal Square\\nGrand Canal Harbour\\nDub...         Technology   \n",
       "499  1 North Waukegan Road\\nNorth Chicago, IL 60064...         Healthcare   \n",
       "500  100 Abbott Park Road\\nAbbott Park\\nNorth Chica...         Healthcare   \n",
       "501  11270 West Park Place\\nSuite 170 PO Box 245008...        Industrials   \n",
       "502  3M Center\\nSaint Paul, MN 55144-1000\\nUnited S...        Industrials   \n",
       "\n",
       "                            Industry Full Time Employees  \\\n",
       "0                              Solar               3,157   \n",
       "1                Specialty Chemicals              14,000   \n",
       "2                        Restaurants               6,500   \n",
       "3             Software - Application               9,084   \n",
       "4            Medical Care Facilities              70,000   \n",
       "..                               ...                 ...   \n",
       "498  Information Technology Services             742,000   \n",
       "499     Drug Manufacturers - General              50,000   \n",
       "500                  Medical Devices             114,000   \n",
       "501   Specialty Industrial Machinery              12,000   \n",
       "502                    Conglomerates              85,000   \n",
       "\n",
       "                                           Description  Total ESG Risk score  \\\n",
       "0    Enphase Energy, Inc., together with its subsid...                   NaN   \n",
       "1    Eastman Chemical Company operates as a special...                  25.3   \n",
       "2    Domino's Pizza, Inc., through its subsidiaries...                  29.2   \n",
       "3    Dayforce Inc., together with its subsidiaries,...                   NaN   \n",
       "4    DaVita Inc. provides kidney dialysis services ...                  22.6   \n",
       "..                                                 ...                   ...   \n",
       "498  Accenture plc, a professional services company...                   9.8   \n",
       "499  AbbVie Inc. discovers, develops, manufactures,...                  29.9   \n",
       "500  Abbott Laboratories, together with its subsidi...                  24.8   \n",
       "501  A. O. Smith Corporation manufactures and marke...                  25.4   \n",
       "502  3M Company provides diversified technology ser...                  37.3   \n",
       "\n",
       "     Environment Risk Score  Governance Risk Score  Social Risk Score  \\\n",
       "0                       NaN                    NaN                NaN   \n",
       "1                      12.8                    6.6                5.8   \n",
       "2                      10.6                    6.3               12.2   \n",
       "3                       NaN                    NaN                NaN   \n",
       "4                       0.1                    8.4               14.1   \n",
       "..                      ...                    ...                ...   \n",
       "498                     0.8                    4.4                4.6   \n",
       "499                     2.4                   10.4               17.2   \n",
       "500                     2.3                    8.3               14.2   \n",
       "501                     7.2                    6.4               11.9   \n",
       "502                    17.2                    6.5               13.6   \n",
       "\n",
       "                 Controversy Level  Controversy Score ESG Risk Percentile  \\\n",
       "0                              NaN                NaN                 NaN   \n",
       "1       Moderate Controversy Level                2.0     50th percentile   \n",
       "2       Moderate Controversy Level                2.0     66th percentile   \n",
       "3                              NaN                NaN                 NaN   \n",
       "4       Moderate Controversy Level                2.0     38th percentile   \n",
       "..                             ...                ...                 ...   \n",
       "498     Moderate Controversy Level                2.0      3rd percentile   \n",
       "499  Significant Controversy Level                3.0     69th percentile   \n",
       "500  Significant Controversy Level                3.0     48th percentile   \n",
       "501          Low Controversy Level                1.0     51st percentile   \n",
       "502       Severe Controversy Level                5.0     89th percentile   \n",
       "\n",
       "    ESG Risk Level  \n",
       "0              NaN  \n",
       "1           Medium  \n",
       "2           Medium  \n",
       "3              NaN  \n",
       "4           Medium  \n",
       "..             ...  \n",
       "498     Negligible  \n",
       "499         Medium  \n",
       "500         Medium  \n",
       "501         Medium  \n",
       "502           High  \n",
       "\n",
       "[503 rows x 15 columns]"
      ]
     },
     "execution_count": 4,
     "metadata": {},
     "output_type": "execute_result"
    }
   ],
   "source": [
    "import pandas as pd\n",
    "pd.read_csv(\"~/class/f24/nlp/project/sustain-nlp/sp500_esg_risk_ratings/sp500_esg_risk_ratings.csv\")"
   ]
  },
  {
   "cell_type": "code",
   "execution_count": null,
   "metadata": {},
   "outputs": [
    {
     "data": {
      "text/plain": [
       "0    style guide colour colour use imagecolour prof...\n",
       "Name: preprocessed_content, dtype: object"
      ]
     },
     "execution_count": 9,
     "metadata": {},
     "output_type": "execute_result"
    }
   ],
   "source": [
    "# if you want to find text data from S&P companies - this is the code to load it\n",
    "# source: https://www.kaggle.com/datasets/jaidityachopra/esg-sustainability-reports-of-s-and-p-500-companies \n",
    "# pd.read_csv(\"~/class/f24/nlp/project/extra_data/preprocessed_content.csv\").head(1)['preprocessed_content']"
   ]
  },
  {
   "cell_type": "code",
   "execution_count": null,
   "metadata": {},
   "outputs": [],
   "source": []
  },
  {
   "cell_type": "markdown",
   "metadata": {},
   "source": []
  }
 ],
 "metadata": {
  "kernelspec": {
   "display_name": "venv-3.11",
   "language": "python",
   "name": "python3"
  },
  "language_info": {
   "codemirror_mode": {
    "name": "ipython",
    "version": 3
   },
   "file_extension": ".py",
   "mimetype": "text/x-python",
   "name": "python",
   "nbconvert_exporter": "python",
   "pygments_lexer": "ipython3",
   "version": "3.11.5"
  }
 },
 "nbformat": 4,
 "nbformat_minor": 2
}
